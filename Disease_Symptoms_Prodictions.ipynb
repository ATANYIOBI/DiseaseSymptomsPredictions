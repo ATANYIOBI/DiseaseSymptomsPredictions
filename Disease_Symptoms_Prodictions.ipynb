{
 "cells": [
  {
   "cell_type": "markdown",
   "id": "0a08ade0",
   "metadata": {},
   "source": [
    "# Disease Symptoms Predictions using RandomForest Algorithm"
   ]
  },
  {
   "cell_type": "code",
   "execution_count": 1,
   "id": "38d5b18e",
   "metadata": {},
   "outputs": [],
   "source": [
    "# libraries import"
   ]
  },
  {
   "cell_type": "code",
   "execution_count": 2,
   "id": "83f21fdd",
   "metadata": {},
   "outputs": [],
   "source": [
    "import numpy as np"
   ]
  },
  {
   "cell_type": "code",
   "execution_count": 3,
   "id": "ff600cc6",
   "metadata": {},
   "outputs": [],
   "source": [
    "import pandas as pd"
   ]
  },
  {
   "cell_type": "code",
   "execution_count": 4,
   "id": "1a51d074",
   "metadata": {},
   "outputs": [],
   "source": [
    "import matplotlib as plt"
   ]
  },
  {
   "cell_type": "code",
   "execution_count": 5,
   "id": "41c5296e",
   "metadata": {},
   "outputs": [],
   "source": [
    "%matplotlib inline"
   ]
  },
  {
   "cell_type": "code",
   "execution_count": 6,
   "id": "9d3ab180",
   "metadata": {},
   "outputs": [],
   "source": [
    "import seaborn as sns"
   ]
  },
  {
   "cell_type": "code",
   "execution_count": 7,
   "id": "e04bfe55",
   "metadata": {},
   "outputs": [],
   "source": [
    "import joblib as job"
   ]
  },
  {
   "cell_type": "code",
   "execution_count": 8,
   "id": "ffa143a2",
   "metadata": {},
   "outputs": [],
   "source": [
    "import streamlit as st"
   ]
  },
  {
   "cell_type": "code",
   "execution_count": 9,
   "id": "84982e13",
   "metadata": {},
   "outputs": [],
   "source": [
    "# loading the dataset\n",
    "df = pd.read_csv(r'C:\\Users\\user\\Desktop\\CSV_FILES\\Disease.csv')"
   ]
  },
  {
   "cell_type": "code",
   "execution_count": 10,
   "id": "3aac146a",
   "metadata": {},
   "outputs": [
    {
     "data": {
      "text/html": [
       "<div>\n",
       "<style scoped>\n",
       "    .dataframe tbody tr th:only-of-type {\n",
       "        vertical-align: middle;\n",
       "    }\n",
       "\n",
       "    .dataframe tbody tr th {\n",
       "        vertical-align: top;\n",
       "    }\n",
       "\n",
       "    .dataframe thead th {\n",
       "        text-align: right;\n",
       "    }\n",
       "</style>\n",
       "<table border=\"1\" class=\"dataframe\">\n",
       "  <thead>\n",
       "    <tr style=\"text-align: right;\">\n",
       "      <th></th>\n",
       "      <th>Disease</th>\n",
       "      <th>Fever</th>\n",
       "      <th>Cough</th>\n",
       "      <th>Fatigue</th>\n",
       "      <th>Difficulty Breathing</th>\n",
       "      <th>Age</th>\n",
       "      <th>Gender</th>\n",
       "      <th>Blood Pressure</th>\n",
       "      <th>Cholesterol Level</th>\n",
       "      <th>Outcome Variable</th>\n",
       "    </tr>\n",
       "  </thead>\n",
       "  <tbody>\n",
       "    <tr>\n",
       "      <th>0</th>\n",
       "      <td>Influenza</td>\n",
       "      <td>Yes</td>\n",
       "      <td>No</td>\n",
       "      <td>Yes</td>\n",
       "      <td>Yes</td>\n",
       "      <td>19</td>\n",
       "      <td>Female</td>\n",
       "      <td>Low</td>\n",
       "      <td>Normal</td>\n",
       "      <td>Positive</td>\n",
       "    </tr>\n",
       "    <tr>\n",
       "      <th>1</th>\n",
       "      <td>Common Cold</td>\n",
       "      <td>No</td>\n",
       "      <td>Yes</td>\n",
       "      <td>Yes</td>\n",
       "      <td>No</td>\n",
       "      <td>25</td>\n",
       "      <td>Female</td>\n",
       "      <td>Normal</td>\n",
       "      <td>Normal</td>\n",
       "      <td>Negative</td>\n",
       "    </tr>\n",
       "    <tr>\n",
       "      <th>2</th>\n",
       "      <td>Eczema</td>\n",
       "      <td>No</td>\n",
       "      <td>Yes</td>\n",
       "      <td>Yes</td>\n",
       "      <td>No</td>\n",
       "      <td>25</td>\n",
       "      <td>Female</td>\n",
       "      <td>Normal</td>\n",
       "      <td>Normal</td>\n",
       "      <td>Negative</td>\n",
       "    </tr>\n",
       "    <tr>\n",
       "      <th>3</th>\n",
       "      <td>Asthma</td>\n",
       "      <td>Yes</td>\n",
       "      <td>Yes</td>\n",
       "      <td>No</td>\n",
       "      <td>Yes</td>\n",
       "      <td>25</td>\n",
       "      <td>Male</td>\n",
       "      <td>Normal</td>\n",
       "      <td>Normal</td>\n",
       "      <td>Positive</td>\n",
       "    </tr>\n",
       "    <tr>\n",
       "      <th>4</th>\n",
       "      <td>Asthma</td>\n",
       "      <td>Yes</td>\n",
       "      <td>Yes</td>\n",
       "      <td>No</td>\n",
       "      <td>Yes</td>\n",
       "      <td>25</td>\n",
       "      <td>Male</td>\n",
       "      <td>Normal</td>\n",
       "      <td>Normal</td>\n",
       "      <td>Positive</td>\n",
       "    </tr>\n",
       "    <tr>\n",
       "      <th>...</th>\n",
       "      <td>...</td>\n",
       "      <td>...</td>\n",
       "      <td>...</td>\n",
       "      <td>...</td>\n",
       "      <td>...</td>\n",
       "      <td>...</td>\n",
       "      <td>...</td>\n",
       "      <td>...</td>\n",
       "      <td>...</td>\n",
       "      <td>...</td>\n",
       "    </tr>\n",
       "    <tr>\n",
       "      <th>344</th>\n",
       "      <td>Stroke</td>\n",
       "      <td>Yes</td>\n",
       "      <td>No</td>\n",
       "      <td>Yes</td>\n",
       "      <td>No</td>\n",
       "      <td>80</td>\n",
       "      <td>Female</td>\n",
       "      <td>High</td>\n",
       "      <td>High</td>\n",
       "      <td>Positive</td>\n",
       "    </tr>\n",
       "    <tr>\n",
       "      <th>345</th>\n",
       "      <td>Stroke</td>\n",
       "      <td>Yes</td>\n",
       "      <td>No</td>\n",
       "      <td>Yes</td>\n",
       "      <td>No</td>\n",
       "      <td>85</td>\n",
       "      <td>Male</td>\n",
       "      <td>High</td>\n",
       "      <td>High</td>\n",
       "      <td>Positive</td>\n",
       "    </tr>\n",
       "    <tr>\n",
       "      <th>346</th>\n",
       "      <td>Stroke</td>\n",
       "      <td>Yes</td>\n",
       "      <td>No</td>\n",
       "      <td>Yes</td>\n",
       "      <td>No</td>\n",
       "      <td>85</td>\n",
       "      <td>Male</td>\n",
       "      <td>High</td>\n",
       "      <td>High</td>\n",
       "      <td>Positive</td>\n",
       "    </tr>\n",
       "    <tr>\n",
       "      <th>347</th>\n",
       "      <td>Stroke</td>\n",
       "      <td>Yes</td>\n",
       "      <td>No</td>\n",
       "      <td>Yes</td>\n",
       "      <td>No</td>\n",
       "      <td>90</td>\n",
       "      <td>Female</td>\n",
       "      <td>High</td>\n",
       "      <td>High</td>\n",
       "      <td>Positive</td>\n",
       "    </tr>\n",
       "    <tr>\n",
       "      <th>348</th>\n",
       "      <td>Stroke</td>\n",
       "      <td>Yes</td>\n",
       "      <td>No</td>\n",
       "      <td>Yes</td>\n",
       "      <td>No</td>\n",
       "      <td>90</td>\n",
       "      <td>Female</td>\n",
       "      <td>High</td>\n",
       "      <td>High</td>\n",
       "      <td>Positive</td>\n",
       "    </tr>\n",
       "  </tbody>\n",
       "</table>\n",
       "<p>349 rows × 10 columns</p>\n",
       "</div>"
      ],
      "text/plain": [
       "         Disease Fever Cough Fatigue Difficulty Breathing  Age  Gender  \\\n",
       "0      Influenza   Yes    No     Yes                  Yes   19  Female   \n",
       "1    Common Cold    No   Yes     Yes                   No   25  Female   \n",
       "2         Eczema    No   Yes     Yes                   No   25  Female   \n",
       "3         Asthma   Yes   Yes      No                  Yes   25    Male   \n",
       "4         Asthma   Yes   Yes      No                  Yes   25    Male   \n",
       "..           ...   ...   ...     ...                  ...  ...     ...   \n",
       "344       Stroke   Yes    No     Yes                   No   80  Female   \n",
       "345       Stroke   Yes    No     Yes                   No   85    Male   \n",
       "346       Stroke   Yes    No     Yes                   No   85    Male   \n",
       "347       Stroke   Yes    No     Yes                   No   90  Female   \n",
       "348       Stroke   Yes    No     Yes                   No   90  Female   \n",
       "\n",
       "    Blood Pressure Cholesterol Level Outcome Variable  \n",
       "0              Low            Normal         Positive  \n",
       "1           Normal            Normal         Negative  \n",
       "2           Normal            Normal         Negative  \n",
       "3           Normal            Normal         Positive  \n",
       "4           Normal            Normal         Positive  \n",
       "..             ...               ...              ...  \n",
       "344           High              High         Positive  \n",
       "345           High              High         Positive  \n",
       "346           High              High         Positive  \n",
       "347           High              High         Positive  \n",
       "348           High              High         Positive  \n",
       "\n",
       "[349 rows x 10 columns]"
      ]
     },
     "execution_count": 10,
     "metadata": {},
     "output_type": "execute_result"
    }
   ],
   "source": [
    "# inspecting the data\n",
    "df"
   ]
  },
  {
   "cell_type": "code",
   "execution_count": 11,
   "id": "ba2fdc69",
   "metadata": {},
   "outputs": [
    {
     "name": "stdout",
     "output_type": "stream",
     "text": [
      "<class 'pandas.core.frame.DataFrame'>\n",
      "RangeIndex: 349 entries, 0 to 348\n",
      "Data columns (total 10 columns):\n",
      " #   Column                Non-Null Count  Dtype \n",
      "---  ------                --------------  ----- \n",
      " 0   Disease               349 non-null    object\n",
      " 1   Fever                 349 non-null    object\n",
      " 2   Cough                 349 non-null    object\n",
      " 3   Fatigue               349 non-null    object\n",
      " 4   Difficulty Breathing  349 non-null    object\n",
      " 5   Age                   349 non-null    int64 \n",
      " 6   Gender                349 non-null    object\n",
      " 7   Blood Pressure        349 non-null    object\n",
      " 8   Cholesterol Level     349 non-null    object\n",
      " 9   Outcome Variable      349 non-null    object\n",
      "dtypes: int64(1), object(9)\n",
      "memory usage: 27.4+ KB\n"
     ]
    }
   ],
   "source": [
    "# basic information about the data\n",
    "df.info()"
   ]
  },
  {
   "cell_type": "code",
   "execution_count": 12,
   "id": "89d3d799",
   "metadata": {},
   "outputs": [
    {
     "data": {
      "text/plain": [
       "Disease\n",
       "Acne                             1\n",
       "Allergic Rhinitis                6\n",
       "Alzheimer's Disease              5\n",
       "Anemia                           1\n",
       "Anxiety Disorders                6\n",
       "                                ..\n",
       "Ulcerative Colitis               5\n",
       "Urinary Tract Infection          5\n",
       "Urinary Tract Infection (UTI)    3\n",
       "Williams Syndrome                1\n",
       "Zika Virus                       2\n",
       "Length: 116, dtype: int64"
      ]
     },
     "execution_count": 12,
     "metadata": {},
     "output_type": "execute_result"
    }
   ],
   "source": [
    "# different diseases in the data\n",
    "df.groupby(['Disease']).size()"
   ]
  },
  {
   "cell_type": "code",
   "execution_count": 13,
   "id": "fad38c0c",
   "metadata": {},
   "outputs": [
    {
     "data": {
      "text/plain": [
       "array(['Influenza', 'Common Cold', 'Eczema', 'Asthma', 'Hyperthyroidism',\n",
       "       'Allergic Rhinitis', 'Anxiety Disorders', 'Diabetes',\n",
       "       'Gastroenteritis', 'Pancreatitis', 'Rheumatoid Arthritis',\n",
       "       'Depression', 'Liver Cancer', 'Stroke', 'Urinary Tract Infection',\n",
       "       'Dengue Fever', 'Hepatitis', 'Kidney Cancer', 'Migraine',\n",
       "       'Muscular Dystrophy', 'Sinusitis', 'Ulcerative Colitis',\n",
       "       'Bipolar Disorder', 'Bronchitis', 'Cerebral Palsy',\n",
       "       'Colorectal Cancer', 'Hypertensive Heart Disease',\n",
       "       'Multiple Sclerosis', 'Myocardial Infarction (Heart...',\n",
       "       'Urinary Tract Infection (UTI)', 'Osteoporosis', 'Pneumonia',\n",
       "       'Atherosclerosis', 'Chronic Obstructive Pulmonary...', 'Epilepsy',\n",
       "       'Hypertension', 'Obsessive-Compulsive Disorde...', 'Psoriasis',\n",
       "       'Rubella', 'Cirrhosis', 'Conjunctivitis (Pink Eye)',\n",
       "       'Liver Disease', 'Malaria', 'Spina Bifida', 'Kidney Disease',\n",
       "       'Osteoarthritis', 'Klinefelter Syndrome', 'Acne', 'Brain Tumor',\n",
       "       'Cystic Fibrosis', 'Glaucoma', 'Rabies', 'Chickenpox',\n",
       "       'Coronary Artery Disease', 'Eating Disorders (Anorexia,...',\n",
       "       'Fibromyalgia', 'Hemophilia', 'Hypoglycemia', 'Lymphoma',\n",
       "       'Tuberculosis', 'Lung Cancer', 'Hypothyroidism',\n",
       "       'Autism Spectrum Disorder (ASD)', \"Crohn's Disease\",\n",
       "       'Hyperglycemia', 'Melanoma', 'Ovarian Cancer', 'Turner Syndrome',\n",
       "       'Zika Virus', 'Cataracts', 'Pneumocystis Pneumonia (PCP)',\n",
       "       'Scoliosis', 'Sickle Cell Anemia', 'Tetanus', 'Anemia', 'Cholera',\n",
       "       'Endometriosis', 'Sepsis', 'Sleep Apnea', 'Down Syndrome',\n",
       "       'Ebola Virus', 'Lyme Disease', 'Pancreatic Cancer', 'Pneumothorax',\n",
       "       'Appendicitis', 'Esophageal Cancer', 'HIV/AIDS', 'Marfan Syndrome',\n",
       "       \"Parkinson's Disease\", 'Hemorrhoids',\n",
       "       'Polycystic Ovary Syndrome (PCOS)',\n",
       "       'Systemic Lupus Erythematosus...', 'Typhoid Fever',\n",
       "       'Breast Cancer', 'Measles', 'Osteomyelitis', 'Polio',\n",
       "       'Chronic Kidney Disease', 'Hepatitis B', 'Prader-Willi Syndrome',\n",
       "       'Thyroid Cancer', 'Bladder Cancer', 'Otitis Media (Ear Infection)',\n",
       "       'Tourette Syndrome', \"Alzheimer's Disease\",\n",
       "       'Chronic Obstructive Pulmonary Disease (COPD)', 'Dementia',\n",
       "       'Diverticulitis', 'Mumps', 'Cholecystitis', 'Prostate Cancer',\n",
       "       'Schizophrenia', 'Gout', 'Testicular Cancer', 'Tonsillitis',\n",
       "       'Williams Syndrome'], dtype=object)"
      ]
     },
     "execution_count": 13,
     "metadata": {},
     "output_type": "execute_result"
    }
   ],
   "source": [
    "# different diseases to be predicted\n",
    "df['Disease'].unique()"
   ]
  },
  {
   "cell_type": "code",
   "execution_count": 14,
   "id": "a9216b2e",
   "metadata": {},
   "outputs": [
    {
     "data": {
      "text/html": [
       "<div>\n",
       "<style scoped>\n",
       "    .dataframe tbody tr th:only-of-type {\n",
       "        vertical-align: middle;\n",
       "    }\n",
       "\n",
       "    .dataframe tbody tr th {\n",
       "        vertical-align: top;\n",
       "    }\n",
       "\n",
       "    .dataframe thead th {\n",
       "        text-align: right;\n",
       "    }\n",
       "</style>\n",
       "<table border=\"1\" class=\"dataframe\">\n",
       "  <thead>\n",
       "    <tr style=\"text-align: right;\">\n",
       "      <th></th>\n",
       "      <th>Disease</th>\n",
       "      <th>Fever</th>\n",
       "      <th>Cough</th>\n",
       "      <th>Fatigue</th>\n",
       "      <th>Difficulty Breathing</th>\n",
       "      <th>Age</th>\n",
       "      <th>Gender</th>\n",
       "      <th>Blood Pressure</th>\n",
       "      <th>Cholesterol Level</th>\n",
       "      <th>Outcome Variable</th>\n",
       "    </tr>\n",
       "  </thead>\n",
       "  <tbody>\n",
       "    <tr>\n",
       "      <th>0</th>\n",
       "      <td>False</td>\n",
       "      <td>False</td>\n",
       "      <td>False</td>\n",
       "      <td>False</td>\n",
       "      <td>False</td>\n",
       "      <td>False</td>\n",
       "      <td>False</td>\n",
       "      <td>False</td>\n",
       "      <td>False</td>\n",
       "      <td>False</td>\n",
       "    </tr>\n",
       "    <tr>\n",
       "      <th>1</th>\n",
       "      <td>False</td>\n",
       "      <td>False</td>\n",
       "      <td>False</td>\n",
       "      <td>False</td>\n",
       "      <td>False</td>\n",
       "      <td>False</td>\n",
       "      <td>False</td>\n",
       "      <td>False</td>\n",
       "      <td>False</td>\n",
       "      <td>False</td>\n",
       "    </tr>\n",
       "    <tr>\n",
       "      <th>2</th>\n",
       "      <td>False</td>\n",
       "      <td>False</td>\n",
       "      <td>False</td>\n",
       "      <td>False</td>\n",
       "      <td>False</td>\n",
       "      <td>False</td>\n",
       "      <td>False</td>\n",
       "      <td>False</td>\n",
       "      <td>False</td>\n",
       "      <td>False</td>\n",
       "    </tr>\n",
       "    <tr>\n",
       "      <th>3</th>\n",
       "      <td>False</td>\n",
       "      <td>False</td>\n",
       "      <td>False</td>\n",
       "      <td>False</td>\n",
       "      <td>False</td>\n",
       "      <td>False</td>\n",
       "      <td>False</td>\n",
       "      <td>False</td>\n",
       "      <td>False</td>\n",
       "      <td>False</td>\n",
       "    </tr>\n",
       "    <tr>\n",
       "      <th>4</th>\n",
       "      <td>False</td>\n",
       "      <td>False</td>\n",
       "      <td>False</td>\n",
       "      <td>False</td>\n",
       "      <td>False</td>\n",
       "      <td>False</td>\n",
       "      <td>False</td>\n",
       "      <td>False</td>\n",
       "      <td>False</td>\n",
       "      <td>False</td>\n",
       "    </tr>\n",
       "    <tr>\n",
       "      <th>...</th>\n",
       "      <td>...</td>\n",
       "      <td>...</td>\n",
       "      <td>...</td>\n",
       "      <td>...</td>\n",
       "      <td>...</td>\n",
       "      <td>...</td>\n",
       "      <td>...</td>\n",
       "      <td>...</td>\n",
       "      <td>...</td>\n",
       "      <td>...</td>\n",
       "    </tr>\n",
       "    <tr>\n",
       "      <th>344</th>\n",
       "      <td>False</td>\n",
       "      <td>False</td>\n",
       "      <td>False</td>\n",
       "      <td>False</td>\n",
       "      <td>False</td>\n",
       "      <td>False</td>\n",
       "      <td>False</td>\n",
       "      <td>False</td>\n",
       "      <td>False</td>\n",
       "      <td>False</td>\n",
       "    </tr>\n",
       "    <tr>\n",
       "      <th>345</th>\n",
       "      <td>False</td>\n",
       "      <td>False</td>\n",
       "      <td>False</td>\n",
       "      <td>False</td>\n",
       "      <td>False</td>\n",
       "      <td>False</td>\n",
       "      <td>False</td>\n",
       "      <td>False</td>\n",
       "      <td>False</td>\n",
       "      <td>False</td>\n",
       "    </tr>\n",
       "    <tr>\n",
       "      <th>346</th>\n",
       "      <td>False</td>\n",
       "      <td>False</td>\n",
       "      <td>False</td>\n",
       "      <td>False</td>\n",
       "      <td>False</td>\n",
       "      <td>False</td>\n",
       "      <td>False</td>\n",
       "      <td>False</td>\n",
       "      <td>False</td>\n",
       "      <td>False</td>\n",
       "    </tr>\n",
       "    <tr>\n",
       "      <th>347</th>\n",
       "      <td>False</td>\n",
       "      <td>False</td>\n",
       "      <td>False</td>\n",
       "      <td>False</td>\n",
       "      <td>False</td>\n",
       "      <td>False</td>\n",
       "      <td>False</td>\n",
       "      <td>False</td>\n",
       "      <td>False</td>\n",
       "      <td>False</td>\n",
       "    </tr>\n",
       "    <tr>\n",
       "      <th>348</th>\n",
       "      <td>False</td>\n",
       "      <td>False</td>\n",
       "      <td>False</td>\n",
       "      <td>False</td>\n",
       "      <td>False</td>\n",
       "      <td>False</td>\n",
       "      <td>False</td>\n",
       "      <td>False</td>\n",
       "      <td>False</td>\n",
       "      <td>False</td>\n",
       "    </tr>\n",
       "  </tbody>\n",
       "</table>\n",
       "<p>349 rows × 10 columns</p>\n",
       "</div>"
      ],
      "text/plain": [
       "     Disease  Fever  Cough  Fatigue  Difficulty Breathing    Age  Gender  \\\n",
       "0      False  False  False    False                 False  False   False   \n",
       "1      False  False  False    False                 False  False   False   \n",
       "2      False  False  False    False                 False  False   False   \n",
       "3      False  False  False    False                 False  False   False   \n",
       "4      False  False  False    False                 False  False   False   \n",
       "..       ...    ...    ...      ...                   ...    ...     ...   \n",
       "344    False  False  False    False                 False  False   False   \n",
       "345    False  False  False    False                 False  False   False   \n",
       "346    False  False  False    False                 False  False   False   \n",
       "347    False  False  False    False                 False  False   False   \n",
       "348    False  False  False    False                 False  False   False   \n",
       "\n",
       "     Blood Pressure  Cholesterol Level  Outcome Variable  \n",
       "0             False              False             False  \n",
       "1             False              False             False  \n",
       "2             False              False             False  \n",
       "3             False              False             False  \n",
       "4             False              False             False  \n",
       "..              ...                ...               ...  \n",
       "344           False              False             False  \n",
       "345           False              False             False  \n",
       "346           False              False             False  \n",
       "347           False              False             False  \n",
       "348           False              False             False  \n",
       "\n",
       "[349 rows x 10 columns]"
      ]
     },
     "execution_count": 14,
     "metadata": {},
     "output_type": "execute_result"
    }
   ],
   "source": [
    "# checking for the missing values\n",
    "df.isnull()"
   ]
  },
  {
   "cell_type": "code",
   "execution_count": 15,
   "id": "d8f8abfc",
   "metadata": {},
   "outputs": [
    {
     "data": {
      "text/plain": [
       "<AxesSubplot:>"
      ]
     },
     "execution_count": 15,
     "metadata": {},
     "output_type": "execute_result"
    },
    {
     "data": {
      "image/png": "[encoded data removed]",
      "text/plain": [
       "<Figure size 432x288 with 2 Axes>"
      ]
     },
     "metadata": {
      "needs_background": "light"
     },
     "output_type": "display_data"
    }
   ],
   "source": [
    "# plot to determine missing values\n",
    "sns.heatmap(df.isnull())"
   ]
  },
  {
   "cell_type": "code",
   "execution_count": 16,
   "id": "b335a96a",
   "metadata": {},
   "outputs": [
    {
     "data": {
      "text/html": [
       "<div>\n",
       "<style scoped>\n",
       "    .dataframe tbody tr th:only-of-type {\n",
       "        vertical-align: middle;\n",
       "    }\n",
       "\n",
       "    .dataframe tbody tr th {\n",
       "        vertical-align: top;\n",
       "    }\n",
       "\n",
       "    .dataframe thead th {\n",
       "        text-align: right;\n",
       "    }\n",
       "</style>\n",
       "<table border=\"1\" class=\"dataframe\">\n",
       "  <thead>\n",
       "    <tr style=\"text-align: right;\">\n",
       "      <th></th>\n",
       "      <th>Disease</th>\n",
       "      <th>Fever</th>\n",
       "      <th>Cough</th>\n",
       "      <th>Fatigue</th>\n",
       "      <th>Difficulty Breathing</th>\n",
       "      <th>Age</th>\n",
       "      <th>Gender</th>\n",
       "      <th>Blood Pressure</th>\n",
       "      <th>Cholesterol Level</th>\n",
       "      <th>Outcome Variable</th>\n",
       "      <th>Smoking</th>\n",
       "      <th>Alcohol Consumption</th>\n",
       "      <th>Vomiting</th>\n",
       "    </tr>\n",
       "  </thead>\n",
       "  <tbody>\n",
       "    <tr>\n",
       "      <th>0</th>\n",
       "      <td>Influenza</td>\n",
       "      <td>Yes</td>\n",
       "      <td>No</td>\n",
       "      <td>Yes</td>\n",
       "      <td>Yes</td>\n",
       "      <td>19</td>\n",
       "      <td>Female</td>\n",
       "      <td>Low</td>\n",
       "      <td>Normal</td>\n",
       "      <td>Positive</td>\n",
       "      <td>Yes</td>\n",
       "      <td>No</td>\n",
       "      <td>Yes</td>\n",
       "    </tr>\n",
       "    <tr>\n",
       "      <th>1</th>\n",
       "      <td>Common Cold</td>\n",
       "      <td>No</td>\n",
       "      <td>Yes</td>\n",
       "      <td>Yes</td>\n",
       "      <td>No</td>\n",
       "      <td>25</td>\n",
       "      <td>Female</td>\n",
       "      <td>Normal</td>\n",
       "      <td>Normal</td>\n",
       "      <td>Negative</td>\n",
       "      <td>No</td>\n",
       "      <td>Yes</td>\n",
       "      <td>Yes</td>\n",
       "    </tr>\n",
       "    <tr>\n",
       "      <th>2</th>\n",
       "      <td>Eczema</td>\n",
       "      <td>No</td>\n",
       "      <td>Yes</td>\n",
       "      <td>Yes</td>\n",
       "      <td>No</td>\n",
       "      <td>25</td>\n",
       "      <td>Female</td>\n",
       "      <td>Normal</td>\n",
       "      <td>Normal</td>\n",
       "      <td>Negative</td>\n",
       "      <td>No</td>\n",
       "      <td>Yes</td>\n",
       "      <td>Yes</td>\n",
       "    </tr>\n",
       "    <tr>\n",
       "      <th>3</th>\n",
       "      <td>Asthma</td>\n",
       "      <td>Yes</td>\n",
       "      <td>Yes</td>\n",
       "      <td>No</td>\n",
       "      <td>Yes</td>\n",
       "      <td>25</td>\n",
       "      <td>Male</td>\n",
       "      <td>Normal</td>\n",
       "      <td>Normal</td>\n",
       "      <td>Positive</td>\n",
       "      <td>Yes</td>\n",
       "      <td>Yes</td>\n",
       "      <td>No</td>\n",
       "    </tr>\n",
       "    <tr>\n",
       "      <th>4</th>\n",
       "      <td>Asthma</td>\n",
       "      <td>Yes</td>\n",
       "      <td>Yes</td>\n",
       "      <td>No</td>\n",
       "      <td>Yes</td>\n",
       "      <td>25</td>\n",
       "      <td>Male</td>\n",
       "      <td>Normal</td>\n",
       "      <td>Normal</td>\n",
       "      <td>Positive</td>\n",
       "      <td>Yes</td>\n",
       "      <td>Yes</td>\n",
       "      <td>No</td>\n",
       "    </tr>\n",
       "  </tbody>\n",
       "</table>\n",
       "</div>"
      ],
      "text/plain": [
       "       Disease Fever Cough Fatigue Difficulty Breathing  Age  Gender  \\\n",
       "0    Influenza   Yes    No     Yes                  Yes   19  Female   \n",
       "1  Common Cold    No   Yes     Yes                   No   25  Female   \n",
       "2       Eczema    No   Yes     Yes                   No   25  Female   \n",
       "3       Asthma   Yes   Yes      No                  Yes   25    Male   \n",
       "4       Asthma   Yes   Yes      No                  Yes   25    Male   \n",
       "\n",
       "  Blood Pressure Cholesterol Level Outcome Variable Smoking  \\\n",
       "0            Low            Normal         Positive     Yes   \n",
       "1         Normal            Normal         Negative      No   \n",
       "2         Normal            Normal         Negative      No   \n",
       "3         Normal            Normal         Positive     Yes   \n",
       "4         Normal            Normal         Positive     Yes   \n",
       "\n",
       "  Alcohol Consumption Vomiting  \n",
       "0                  No      Yes  \n",
       "1                 Yes      Yes  \n",
       "2                 Yes      Yes  \n",
       "3                 Yes       No  \n",
       "4                 Yes       No  "
      ]
     },
     "execution_count": 16,
     "metadata": {},
     "output_type": "execute_result"
    }
   ],
   "source": [
    "# Data Augmentation (sythentic data)\n",
    "\n",
    "df['Smoking'] = df['Fever'] * 1\n",
    "df['Alcohol Consumption'] = df['Cough'] * 1\n",
    "df['Vomiting'] = df['Fatigue'] * 1\n",
    "df.head()"
   ]
  },
  {
   "cell_type": "code",
   "execution_count": 17,
   "id": "a7895334",
   "metadata": {},
   "outputs": [],
   "source": [
    "# Data transformation\n",
    "\n",
    "df['Disease'] = df['Disease'].replace(['Yes', 'No'], \n",
    "    [1, 0])\n",
    "df['Fever'] = df['Fever'].replace(['Yes', 'No'], \n",
    "    [1, 0])\n",
    "df['Cough'] = df['Cough'].replace(['Yes', 'No'], \n",
    "    [1, 0])\n",
    "df['Fatigue'] = df['Fatigue'].replace(['Yes', 'No'],\n",
    "    [1, 0])\n",
    "df['Difficulty Breathing'] = df['Difficulty Breathing'].replace(\n",
    "    ['Yes', 'No'], [1, 0])\n",
    "df['Gender'] = df['Gender'].replace(['Male', 'Female'], \n",
    "    [1, 0])\n",
    "df['Blood Pressure'] = df['Blood Pressure'].replace(\n",
    "    ['Low','Normal', 'High'], [1, 2, 3])\n",
    "df['Cholesterol Level'] = df['Cholesterol Level'].replace(\n",
    "    ['Low','Normal', 'High'], [1, 2, 3])\n",
    "df['Outcome Variable'] = df['Outcome Variable'].replace(\n",
    "    ['Positive','Negative'], [1, 0])\n",
    "df['Smoking'] = df['Smoking'].replace(['Yes', 'No'],\n",
    "    [1, 0])\n",
    "df['Alcohol Consumption'] = df['Alcohol Consumption'].replace(\n",
    "    ['Yes','No'], [1, 0])\n",
    "df['Vomiting'] = df['Vomiting'].replace(['Yes', 'No'], \n",
    "    [1, 0])"
   ]
  },
  {
   "cell_type": "code",
   "execution_count": 18,
   "id": "54b98fe7",
   "metadata": {},
   "outputs": [
    {
     "data": {
      "text/plain": [
       "Asthma                            23\n",
       "Stroke                            16\n",
       "Osteoporosis                      14\n",
       "Hypertension                      10\n",
       "Diabetes                          10\n",
       "                                  ..\n",
       "Autism Spectrum Disorder (ASD)     1\n",
       "Hypoglycemia                       1\n",
       "Fibromyalgia                       1\n",
       "Eating Disorders (Anorexia,...     1\n",
       "Williams Syndrome                  1\n",
       "Name: Disease, Length: 116, dtype: int64"
      ]
     },
     "execution_count": 18,
     "metadata": {},
     "output_type": "execute_result"
    }
   ],
   "source": [
    "# the unique values \n",
    "df['Disease'].value_counts()"
   ]
  },
  {
   "cell_type": "code",
   "execution_count": 19,
   "id": "b1ddf378",
   "metadata": {},
   "outputs": [
    {
     "data": {
      "text/plain": [
       "14     0\n",
       "107    1\n",
       "116    0\n",
       "155    1\n",
       "187    1\n",
       "188    1\n",
       "213    0\n",
       "246    0\n",
       "305    0\n",
       "318    1\n",
       "Name: Outcome Variable, dtype: int64"
      ]
     },
     "execution_count": 19,
     "metadata": {},
     "output_type": "execute_result"
    }
   ],
   "source": [
    "\n",
    "df[(df['Disease']=='Diabetes')]['Outcome Variable']\n"
   ]
  },
  {
   "cell_type": "code",
   "execution_count": 20,
   "id": "0200e754",
   "metadata": {},
   "outputs": [],
   "source": [
    "# features Extraction\n",
    "\n",
    "X = df.drop(['Outcome Variable', 'Disease'], axis=1)\n",
    "Y = df['Outcome Variable']"
   ]
  },
  {
   "cell_type": "code",
   "execution_count": 21,
   "id": "cdc229da",
   "metadata": {},
   "outputs": [],
   "source": [
    "# Data preprocessing/normalization\n",
    "\n",
    "from sklearn.preprocessing import StandardScaler\n",
    "scaler = StandardScaler()\n",
    "data_scaled = scaler.fit_transform(X)"
   ]
  },
  {
   "cell_type": "code",
   "execution_count": 22,
   "id": "15f0f4fd",
   "metadata": {},
   "outputs": [],
   "source": [
    "# model selection\n",
    "\n",
    "from sklearn.model_selection import train_test_split"
   ]
  },
  {
   "cell_type": "code",
   "execution_count": 23,
   "id": "0bd65abb",
   "metadata": {},
   "outputs": [],
   "source": [
    "# choose classifiers to be trainned\n",
    "\n",
    "from sklearn.ensemble import RandomForestClassifier\n",
    "from sklearn.svm import SVC\n",
    "from sklearn.linear_model import LogisticRegression\n"
   ]
  },
  {
   "cell_type": "code",
   "execution_count": 24,
   "id": "bce55643",
   "metadata": {},
   "outputs": [],
   "source": [
    "# split the data (20% for testing set and 80% for training set)\n",
    "\n",
    "X_train, X_test, y_train, y_test = train_test_split(\n",
    "    X, Y, test_size = 0.2, random_state = 42)"
   ]
  },
  {
   "cell_type": "code",
   "execution_count": 25,
   "id": "85504ad2",
   "metadata": {},
   "outputs": [],
   "source": [
    "# train randomforest classifier\n",
    "rcl = RandomForestClassifier(n_estimators=150)"
   ]
  },
  {
   "cell_type": "code",
   "execution_count": 26,
   "id": "2fa50184",
   "metadata": {},
   "outputs": [
    {
     "data": {
      "text/html": [
       "<style>#sk-container-id-1 {color: black;background-color: white;}#sk-container-id-1 pre{padding: 0;}#sk-container-id-1 div.sk-toggleable {background-color: white;}#sk-container-id-1 label.sk-toggleable__label {cursor: pointer;display: block;width: 100%;margin-bottom: 0;padding: 0.3em;box-sizing: border-box;text-align: center;}#sk-container-id-1 label.sk-toggleable__label-arrow:before {content: \"▸\";float: left;margin-right: 0.25em;color: #696969;}#sk-container-id-1 label.sk-toggleable__label-arrow:hover:before {color: black;}#sk-container-id-1 div.sk-estimator:hover label.sk-toggleable__label-arrow:before {color: black;}#sk-container-id-1 div.sk-toggleable__content {max-height: 0;max-width: 0;overflow: hidden;text-align: left;background-color: #f0f8ff;}#sk-container-id-1 div.sk-toggleable__content pre {margin: 0.2em;color: black;border-radius: 0.25em;background-color: #f0f8ff;}#sk-container-id-1 input.sk-toggleable__control:checked~div.sk-toggleable__content {max-height: 200px;max-width: 100%;overflow: auto;}#sk-container-id-1 input.sk-toggleable__control:checked~label.sk-toggleable__label-arrow:before {content: \"▾\";}#sk-container-id-1 div.sk-estimator input.sk-toggleable__control:checked~label.sk-toggleable__label {background-color: #d4ebff;}#sk-container-id-1 div.sk-label input.sk-toggleable__control:checked~label.sk-toggleable__label {background-color: #d4ebff;}#sk-container-id-1 input.sk-hidden--visually {border: 0;clip: rect(1px 1px 1px 1px);clip: rect(1px, 1px, 1px, 1px);height: 1px;margin: -1px;overflow: hidden;padding: 0;position: absolute;width: 1px;}#sk-container-id-1 div.sk-estimator {font-family: monospace;background-color: #f0f8ff;border: 1px dotted black;border-radius: 0.25em;box-sizing: border-box;margin-bottom: 0.5em;}#sk-container-id-1 div.sk-estimator:hover {background-color: #d4ebff;}#sk-container-id-1 div.sk-parallel-item::after {content: \"\";width: 100%;border-bottom: 1px solid gray;flex-grow: 1;}#sk-container-id-1 div.sk-label:hover label.sk-toggleable__label {background-color: #d4ebff;}#sk-container-id-1 div.sk-serial::before {content: \"\";position: absolute;border-left: 1px solid gray;box-sizing: border-box;top: 0;bottom: 0;left: 50%;z-index: 0;}#sk-container-id-1 div.sk-serial {display: flex;flex-direction: column;align-items: center;background-color: white;padding-right: 0.2em;padding-left: 0.2em;position: relative;}#sk-container-id-1 div.sk-item {position: relative;z-index: 1;}#sk-container-id-1 div.sk-parallel {display: flex;align-items: stretch;justify-content: center;background-color: white;position: relative;}#sk-container-id-1 div.sk-item::before, #sk-container-id-1 div.sk-parallel-item::before {content: \"\";position: absolute;border-left: 1px solid gray;box-sizing: border-box;top: 0;bottom: 0;left: 50%;z-index: -1;}#sk-container-id-1 div.sk-parallel-item {display: flex;flex-direction: column;z-index: 1;position: relative;background-color: white;}#sk-container-id-1 div.sk-parallel-item:first-child::after {align-self: flex-end;width: 50%;}#sk-container-id-1 div.sk-parallel-item:last-child::after {align-self: flex-start;width: 50%;}#sk-container-id-1 div.sk-parallel-item:only-child::after {width: 0;}#sk-container-id-1 div.sk-dashed-wrapped {border: 1px dashed gray;margin: 0 0.4em 0.5em 0.4em;box-sizing: border-box;padding-bottom: 0.4em;background-color: white;}#sk-container-id-1 div.sk-label label {font-family: monospace;font-weight: bold;display: inline-block;line-height: 1.2em;}#sk-container-id-1 div.sk-label-container {text-align: center;}#sk-container-id-1 div.sk-container {/* jupyter's `normalize.less` sets `[hidden] { display: none; }` but bootstrap.min.css set `[hidden] { display: none !important; }` so we also need the `!important` here to be able to override the default hidden behavior on the sphinx rendered scikit-learn.org. See: https://github.com/scikit-learn/scikit-learn/issues/21755 */display: inline-block !important;position: relative;}#sk-container-id-1 div.sk-text-repr-fallback {display: none;}</style><div id=\"sk-container-id-1\" class=\"sk-top-container\"><div class=\"sk-text-repr-fallback\"><pre>RandomForestClassifier(n_estimators=150)</pre><b>In a Jupyter environment, please rerun this cell to show the HTML representation or trust the notebook. <br />On GitHub, the HTML representation is unable to render, please try loading this page with nbviewer.org.</b></div><div class=\"sk-container\" hidden><div class=\"sk-item\"><div class=\"sk-estimator sk-toggleable\"><input class=\"sk-toggleable__control sk-hidden--visually\" id=\"sk-estimator-id-1\" type=\"checkbox\" checked><label for=\"sk-estimator-id-1\" class=\"sk-toggleable__label sk-toggleable__label-arrow\">RandomForestClassifier</label><div class=\"sk-toggleable__content\"><pre>RandomForestClassifier(n_estimators=150)</pre></div></div></div></div></div>"
      ],
      "text/plain": [
       "RandomForestClassifier(n_estimators=150)"
      ]
     },
     "execution_count": 26,
     "metadata": {},
     "output_type": "execute_result"
    }
   ],
   "source": [
    "# fit the model\n",
    "rcl.fit(X_train, y_train)"
   ]
  },
  {
   "cell_type": "code",
   "execution_count": 27,
   "id": "985c92eb",
   "metadata": {},
   "outputs": [],
   "source": [
    "# make predictions \n",
    "predictions = rcl.predict(X_test)"
   ]
  },
  {
   "cell_type": "code",
   "execution_count": 28,
   "id": "54f62d65",
   "metadata": {},
   "outputs": [],
   "source": [
    "# importing evaluation module\n",
    "\n",
    "from sklearn.metrics import confusion_matrix,classification_report, accuracy_score"
   ]
  },
  {
   "cell_type": "code",
   "execution_count": 29,
   "id": "2630bd66",
   "metadata": {},
   "outputs": [
    {
     "name": "stdout",
     "output_type": "stream",
     "text": [
      "accuracy_score: 84.28571428571429\n"
     ]
    }
   ],
   "source": [
    "# randomforest performance\n",
    "\n",
    "print('accuracy_score:', accuracy_score(predictions, y_test)*100)"
   ]
  },
  {
   "cell_type": "code",
   "execution_count": 30,
   "id": "bf80e0e8",
   "metadata": {},
   "outputs": [
    {
     "data": {
      "text/plain": [
       "array([[27,  8],\n",
       "       [ 3, 32]], dtype=int64)"
      ]
     },
     "execution_count": 30,
     "metadata": {},
     "output_type": "execute_result"
    }
   ],
   "source": [
    "cm1 = confusion_matrix(predictions, y_test)\n",
    "cm1"
   ]
  },
  {
   "cell_type": "code",
   "execution_count": 31,
   "id": "22c932bd",
   "metadata": {},
   "outputs": [
    {
     "data": {
      "text/plain": [
       "3069"
      ]
     },
     "execution_count": 31,
     "metadata": {},
     "output_type": "execute_result"
    }
   ],
   "source": [
    "# training size\n",
    "X_train.size\n"
   ]
  },
  {
   "cell_type": "code",
   "execution_count": 32,
   "id": "b129a944",
   "metadata": {},
   "outputs": [
    {
     "data": {
      "text/plain": [
       "770"
      ]
     },
     "execution_count": 32,
     "metadata": {},
     "output_type": "execute_result"
    }
   ],
   "source": [
    "# testing size\n",
    "X_test.size"
   ]
  },
  {
   "cell_type": "markdown",
   "id": "ac00a8d7",
   "metadata": {},
   "source": [
    "# Evaluating the model"
   ]
  },
  {
   "cell_type": "code",
   "execution_count": 33,
   "id": "9e22d06a",
   "metadata": {},
   "outputs": [
    {
     "name": "stdout",
     "output_type": "stream",
     "text": [
      "Model Accuracy : 0.8428571428571429\n",
      "Testing Sensitivity/Recall : 0.9\n",
      "Testing Specificity : 0.8\n",
      "Testing Precision : 0.7714285714285715\n"
     ]
    }
   ],
   "source": [
    "# show all the evaluation metrics\n",
    "TP=cm1[0][0]\n",
    "TN=cm1[1][1]\n",
    "FN=cm1[1][0]\n",
    "FP=cm1[0][1]\n",
    "\n",
    "print('Model Accuracy :',\n",
    "      (TP+TN)/(TP+TN+FN+FP))\n",
    "print('Testing Sensitivity/Recall :',\n",
    "      (TP/(TP+FN)))\n",
    "print('Testing Specificity :',\n",
    "      (TN/(TN+FP)))\n",
    "print('Testing Precision :',\n",
    "      (TP/(TP+FP)))"
   ]
  },
  {
   "cell_type": "code",
   "execution_count": 34,
   "id": "c10db945",
   "metadata": {},
   "outputs": [
    {
     "data": {
      "text/plain": [
       "['disease_prediction_model.pkl']"
      ]
     },
     "execution_count": 34,
     "metadata": {},
     "output_type": "execute_result"
    }
   ],
   "source": [
    "# save the model/serialization\n",
    "job.dump(rcl, 'disease_prediction_model.pkl')\n",
    "\n"
   ]
  },
  {
   "cell_type": "markdown",
   "id": "24591af5",
   "metadata": {},
   "source": [
    "# Building the web based app"
   ]
  },
  {
   "cell_type": "code",
   "execution_count": 35,
   "id": "a758f9c1",
   "metadata": {},
   "outputs": [],
   "source": [
    "# load the saved model\n",
    "rcl = job.load('disease_prediction_model.pkl')\n"
   ]
  },
  {
   "cell_type": "code",
   "execution_count": 36,
   "id": "9a16b746",
   "metadata": {},
   "outputs": [
    {
     "ename": "SyntaxError",
     "evalue": "invalid syntax (Temp/ipykernel_9036/1849016544.py, line 23)",
     "output_type": "error",
     "traceback": [
      "\u001b[1;36m  File \u001b[1;32m\"C:\\Users\\user\\AppData\\Local\\Temp/ipykernel_9036/1849016544.py\"\u001b[1;36m, line \u001b[1;32m23\u001b[0m\n\u001b[1;33m    symptoms_list = []\u001b[0m\n\u001b[1;37m    ^\u001b[0m\n\u001b[1;31mSyntaxError\u001b[0m\u001b[1;31m:\u001b[0m invalid syntax\n"
     ]
    }
   ],
   "source": [
    "# Display Title\n",
    "st.title('Disease Symptoms Prediction')\n",
    "\n",
    "# Get user input\n",
    "symptoms_list = st.text_input('Enter symptoms (separated by comma):')\n",
    "\n",
    "# process user inputs \n",
    "\n",
    "try:\n",
    "    symptoms_map = {\n",
    "        'Fever': bool,\n",
    "        'Cough': bool,\n",
    "        'Fatigue': bool,\n",
    "        'Difficulty Breathing': bool,\n",
    "        'Age': int,\n",
    "        'Gender': bool, \n",
    "        'Blood Pressure': str,\n",
    "        'Cholesterol Level': str,\n",
    "        'Smoking': bool,\n",
    "        'Alcohol Consumption': bool,\n",
    "        'Vomiting': bool\n",
    "    }\n",
    "symptoms_list = []\n",
    "for symptom in symptoms.split(','):\n",
    "    symptom = symptom.strip()\n",
    "    if symptoms_map[symptom] == bool:\n",
    "        symptoms_list.append(symptom.lower() =='yes')\n",
    "    elif symptoms_map[symptom] == int:\n",
    "        symptom_list.append(int(symptom))\n",
    "    else:\n",
    "        symptoms_list.append(symptom)\n",
    "        \n",
    "        \n",
    "# make predictions\n",
    "prediction = rcl.predict(np.array([symptoms_list]))\n",
    "\n",
    "# Display result\n",
    "st.write('Predicted Disease:', prediction[0])\n",
    "\n",
    "# run the app\n",
    "st.run(disease_prediction_model.pkl)"
   ]
  },
  {
   "cell_type": "code",
   "execution_count": null,
   "id": "224bfb65",
   "metadata": {},
   "outputs": [],
   "source": [
    "'''\n",
    "Reqiurements: numpy, pandas, \n",
    "seaborn, joblib, matplotlib, \n",
    "streamlit, sklearn and more, \n",
    "as you continue buiding the app. \n",
    "\n",
    "NOTE: Ensure you install all these \n",
    "packages in your VScode before \n",
    "running the model.\n",
    "'''"
   ]
  }
 ],
 "metadata": {
  "kernelspec": {
   "display_name": "Python 3 (ipykernel)",
   "language": "python",
   "name": "python3"
  },
  "language_info": {
   "codemirror_mode": {
    "name": "ipython",
    "version": 3
   },
   "file_extension": ".py",
   "mimetype": "text/x-python",
   "name": "python",
   "nbconvert_exporter": "python",
   "pygments_lexer": "ipython3",
   "version": "3.9.7"
  }
 },
 "nbformat": 4,
 "nbformat_minor": 5
}
